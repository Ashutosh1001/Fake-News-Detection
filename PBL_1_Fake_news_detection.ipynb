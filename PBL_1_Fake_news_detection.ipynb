{
  "nbformat": 4,
  "nbformat_minor": 0,
  "metadata": {
    "colab": {
      "name": "PBL-1 Fake news detection.ipynb",
      "provenance": [],
      "collapsed_sections": [],
      "authorship_tag": "ABX9TyOMr057DnbNM6puS/31fMIw",
      "include_colab_link": true
    },
    "kernelspec": {
      "name": "python3",
      "display_name": "Python 3"
    },
    "language_info": {
      "name": "python"
    }
  },
  "cells": [
    {
      "cell_type": "markdown",
      "metadata": {
        "id": "view-in-github",
        "colab_type": "text"
      },
      "source": [
        "<a href=\"https://colab.research.google.com/github/Ashutosh1001/Fake-News-Detection/blob/main/PBL_1_Fake_news_detection.ipynb\" target=\"_parent\"><img src=\"https://colab.research.google.com/assets/colab-badge.svg\" alt=\"Open In Colab\"/></a>"
      ]
    },
    {
      "cell_type": "code",
      "metadata": {
        "id": "Rfb6ZjITBUQk"
      },
      "source": [
        "import itertools\n",
        "import pandas as pd\n",
        "import numpy as np\n",
        "from sklearn.linear_model import PassiveAggressiveClassifier\n",
        "from sklearn.model_selection import train_test_split\n",
        "from sklearn.feature_extraction.text import TfidfVectorizer\n",
        "from sklearn.metrics import accuracy_score"
      ],
      "execution_count": null,
      "outputs": []
    },
    {
      "cell_type": "code",
      "metadata": {
        "colab": {
          "base_uri": "https://localhost:8080/"
        },
        "id": "KFtjYDyOB1yA",
        "outputId": "b134415c-5093-4af3-8e0f-a6bd476b605d"
      },
      "source": [
        "# Import dataset\n",
        "df=pd.read_csv('Fakenews.csv')\n",
        "\n",
        "# Get the shape\n",
        "df.shape"
      ],
      "execution_count": null,
      "outputs": [
        {
          "output_type": "execute_result",
          "data": {
            "text/plain": [
              "(90, 8)"
            ]
          },
          "metadata": {
            "tags": []
          },
          "execution_count": 27
        }
      ]
    },
    {
      "cell_type": "code",
      "metadata": {
        "colab": {
          "base_uri": "https://localhost:8080/",
          "height": 196
        },
        "id": "lNhp4ja8B-f3",
        "outputId": "2e0004fd-b955-4218-fae3-8e563d473436"
      },
      "source": [
        "# Get the head\n",
        "df.head()"
      ],
      "execution_count": null,
      "outputs": [
        {
          "output_type": "execute_result",
          "data": {
            "text/html": [
              "<div>\n",
              "<style scoped>\n",
              "    .dataframe tbody tr th:only-of-type {\n",
              "        vertical-align: middle;\n",
              "    }\n",
              "\n",
              "    .dataframe tbody tr th {\n",
              "        vertical-align: top;\n",
              "    }\n",
              "\n",
              "    .dataframe thead th {\n",
              "        text-align: right;\n",
              "    }\n",
              "</style>\n",
              "<table border=\"1\" class=\"dataframe\">\n",
              "  <thead>\n",
              "    <tr style=\"text-align: right;\">\n",
              "      <th></th>\n",
              "      <th>Unnamed: 0</th>\n",
              "      <th>author</th>\n",
              "      <th>statement</th>\n",
              "      <th>source</th>\n",
              "      <th>date</th>\n",
              "      <th>target</th>\n",
              "      <th>BinaryTarget</th>\n",
              "      <th>BinaryNumTarget</th>\n",
              "    </tr>\n",
              "  </thead>\n",
              "  <tbody>\n",
              "    <tr>\n",
              "      <th>0</th>\n",
              "      <td>0</td>\n",
              "      <td>Louis Jacobson</td>\n",
              "      <td>The proposal by President Joe Biden would put ...</td>\n",
              "      <td>Roy Blunt</td>\n",
              "      <td>April 6, 2021</td>\n",
              "      <td>half-true</td>\n",
              "      <td>FAKE</td>\n",
              "      <td>0</td>\n",
              "    </tr>\n",
              "    <tr>\n",
              "      <th>1</th>\n",
              "      <td>1</td>\n",
              "      <td>Louis Jacobson</td>\n",
              "      <td>President Joe Biden’s corporate tax rate incre...</td>\n",
              "      <td>Jennifer Granholm</td>\n",
              "      <td>April 6, 2021</td>\n",
              "      <td>barely-true</td>\n",
              "      <td>FAKE</td>\n",
              "      <td>0</td>\n",
              "    </tr>\n",
              "    <tr>\n",
              "      <th>2</th>\n",
              "      <td>2</td>\n",
              "      <td>Andy Nguyen</td>\n",
              "      <td>“6000% Increase in Reported Vaccine Deaths 1st...</td>\n",
              "      <td>Instagram posts</td>\n",
              "      <td>April 6, 2021</td>\n",
              "      <td>false</td>\n",
              "      <td>FAKE</td>\n",
              "      <td>0</td>\n",
              "    </tr>\n",
              "    <tr>\n",
              "      <th>3</th>\n",
              "      <td>3</td>\n",
              "      <td>Bill McCarthy</td>\n",
              "      <td>“The Biden administration is engaging in human...</td>\n",
              "      <td>Katie Pavlich</td>\n",
              "      <td>April 6, 2021</td>\n",
              "      <td>false</td>\n",
              "      <td>FAKE</td>\n",
              "      <td>0</td>\n",
              "    </tr>\n",
              "    <tr>\n",
              "      <th>4</th>\n",
              "      <td>4</td>\n",
              "      <td>Ciara O'Rourke</td>\n",
              "      <td>Says Donald Trump indicted Amy Coney Barrett.</td>\n",
              "      <td>Bloggers</td>\n",
              "      <td>April 6, 2021</td>\n",
              "      <td>pants-fire</td>\n",
              "      <td>FAKE</td>\n",
              "      <td>0</td>\n",
              "    </tr>\n",
              "  </tbody>\n",
              "</table>\n",
              "</div>"
            ],
            "text/plain": [
              "   Unnamed: 0          author  ... BinaryTarget BinaryNumTarget\n",
              "0           0  Louis Jacobson  ...         FAKE               0\n",
              "1           1  Louis Jacobson  ...         FAKE               0\n",
              "2           2     Andy Nguyen  ...         FAKE               0\n",
              "3           3   Bill McCarthy  ...         FAKE               0\n",
              "4           4  Ciara O'Rourke  ...         FAKE               0\n",
              "\n",
              "[5 rows x 8 columns]"
            ]
          },
          "metadata": {
            "tags": []
          },
          "execution_count": 28
        }
      ]
    },
    {
      "cell_type": "code",
      "metadata": {
        "colab": {
          "base_uri": "https://localhost:8080/"
        },
        "id": "4HZAfIPRCMp9",
        "outputId": "29cfad98-5a88-40af-d91b-1c155ed64315"
      },
      "source": [
        "labels = df.BinaryTarget\n",
        "labels.head()"
      ],
      "execution_count": null,
      "outputs": [
        {
          "output_type": "execute_result",
          "data": {
            "text/plain": [
              "0    FAKE\n",
              "1    FAKE\n",
              "2    FAKE\n",
              "3    FAKE\n",
              "4    FAKE\n",
              "Name: BinaryTarget, dtype: object"
            ]
          },
          "metadata": {
            "tags": []
          },
          "execution_count": 29
        }
      ]
    },
    {
      "cell_type": "code",
      "metadata": {
        "id": "Cr1lKnkNCXos"
      },
      "source": [
        "x_train,x_test,y_train,y_test=train_test_split(df['statement'].values.astype('str'), labels, test_size=0.2, random_state=7)\n"
      ],
      "execution_count": null,
      "outputs": []
    },
    {
      "cell_type": "code",
      "metadata": {
        "id": "yTSXp1PZCn2P"
      },
      "source": [
        "tfidf_vectorizer=TfidfVectorizer(stop_words='english', max_df=0.7)"
      ],
      "execution_count": null,
      "outputs": []
    },
    {
      "cell_type": "code",
      "metadata": {
        "id": "B2hqM-LBDFZ_"
      },
      "source": [
        "# Fit & transform train set, transform test set\n",
        "tfidf_train=tfidf_vectorizer.fit_transform(x_train) \n",
        "tfidf_test=tfidf_vectorizer.transform(x_test)"
      ],
      "execution_count": null,
      "outputs": []
    },
    {
      "cell_type": "code",
      "metadata": {
        "colab": {
          "base_uri": "https://localhost:8080/"
        },
        "id": "gaQxk7dkDI5c",
        "outputId": "74d0440a-6529-448b-84ea-2c21c24dfba8"
      },
      "source": [
        "# Initialize the PassiveAggressiveClassifier and fit training sets\n",
        "pa_classifier=PassiveAggressiveClassifier(max_iter=50)\n",
        "pa_classifier.fit(tfidf_train,y_train)"
      ],
      "execution_count": null,
      "outputs": [
        {
          "output_type": "execute_result",
          "data": {
            "text/plain": [
              "PassiveAggressiveClassifier(C=1.0, average=False, class_weight=None,\n",
              "                            early_stopping=False, fit_intercept=True,\n",
              "                            loss='hinge', max_iter=50, n_iter_no_change=5,\n",
              "                            n_jobs=None, random_state=None, shuffle=True,\n",
              "                            tol=0.001, validation_fraction=0.1, verbose=0,\n",
              "                            warm_start=False)"
            ]
          },
          "metadata": {
            "tags": []
          },
          "execution_count": 33
        }
      ]
    },
    {
      "cell_type": "code",
      "metadata": {
        "colab": {
          "base_uri": "https://localhost:8080/"
        },
        "id": "LShgThXcDN_j",
        "outputId": "9e378dc8-c06b-4c84-af81-ffde332af035"
      },
      "source": [
        "y_pred=pa_classifier.predict(tfidf_test)\n",
        "score=accuracy_score(y_test,y_pred)\n",
        "print(f'Accuracy: {round(score*100,2)}%')"
      ],
      "execution_count": null,
      "outputs": [
        {
          "output_type": "stream",
          "text": [
            "Accuracy: 94.44%\n"
          ],
          "name": "stdout"
        }
      ]
    }
  ]
}