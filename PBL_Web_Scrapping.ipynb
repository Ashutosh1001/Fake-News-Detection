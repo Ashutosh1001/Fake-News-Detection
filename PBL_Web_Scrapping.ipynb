{
  "nbformat": 4,
  "nbformat_minor": 0,
  "metadata": {
    "colab": {
      "name": "PBL Web Scrapping.ipynb",
      "provenance": [],
      "collapsed_sections": [],
      "authorship_tag": "ABX9TyOu2X6vPsOBpkxPTkfq+SLf",
      "include_colab_link": true
    },
    "kernelspec": {
      "name": "python3",
      "display_name": "Python 3"
    }
  },
  "cells": [
    {
      "cell_type": "markdown",
      "metadata": {
        "id": "view-in-github",
        "colab_type": "text"
      },
      "source": [
        "<a href=\"https://colab.research.google.com/github/Ashutosh1001/Fake-News-Detection/blob/main/PBL_Web_Scrapping.ipynb\" target=\"_parent\"><img src=\"https://colab.research.google.com/assets/colab-badge.svg\" alt=\"Open In Colab\"/></a>"
      ]
    },
    {
      "cell_type": "code",
      "metadata": {
        "id": "0yC66_SgWKXi"
      },
      "source": [
        "from bs4 import BeautifulSoup\n",
        "import pandas as pd\n",
        "import requests\n",
        "import urllib.request\n",
        "import time"
      ],
      "execution_count": null,
      "outputs": []
    },
    {
      "cell_type": "code",
      "metadata": {
        "id": "pbRS9-gfWYi_"
      },
      "source": [
        "authors = []\n",
        "dates = []\n",
        "statements = []\n",
        "sources = []\n",
        "targets = []"
      ],
      "execution_count": null,
      "outputs": []
    },
    {
      "cell_type": "code",
      "metadata": {
        "id": "EfDHXwpnWgyr"
      },
      "source": [
        "def scrape_website(page_number):\n",
        "  page_num = str(page_number) #Convert the page number to a string\n",
        "  URL = 'https://www.politifact.com/factchecks/list/?page='+page_num #append the page number to complete the URL\n",
        "  webpage = requests.get(URL)  #Make a request to the website\n",
        "  #time.sleep(3)\n",
        "  soup = BeautifulSoup(webpage.text, \"html.parser\") #Parse the text from the website\n",
        "  #Get the tags and it's class\n",
        "  statement_footer =  soup.find_all('footer',attrs={'class':'m-statement__footer'})  #Get the tag and it's class\n",
        "  statement_quote = soup.find_all('div', attrs={'class':'m-statement__quote'}) #Get the tag and it's class\n",
        "  statement_meta = soup.find_all('div', attrs={'class':'m-statement__meta'})#Get the tag and it's class\n",
        "  target = soup.find_all('div', attrs={'class':'m-statement__meter'}) #Get the tag and it's class\n",
        "  #loop through the footer class m-statement__footer to get the date and author\n",
        "  for i in statement_footer:\n",
        "    link1 = i.text.strip()\n",
        "    name_and_date = link1.split()\n",
        "    first_name = name_and_date[1]\n",
        "    last_name = name_and_date[2]\n",
        "    full_name = first_name+' '+last_name\n",
        "    month = name_and_date[4]\n",
        "    day = name_and_date[5]\n",
        "    year = name_and_date[6]\n",
        "    date = month+' '+day+' '+year\n",
        "    dates.append(date)\n",
        "    authors.append(full_name)\n",
        "  #Loop through the div m-statement__quote to get the link\n",
        "  for i in statement_quote:\n",
        "    link2 = i.find_all('a')\n",
        "    statements.append(link2[0].text.strip())\n",
        " #Loop through the div m-statement__meta to get the source\n",
        "  for i in statement_meta:\n",
        "    link3 = i.find_all('a') #Source\n",
        "    source_text = link3[0].text.strip()\n",
        "    sources.append(source_text)\n",
        "  #Loop through the target or the div m-statement__meter to get the facts about the statement (True or False)\n",
        "  for i in target:\n",
        "    fact = i.find('div', attrs={'class':'c-image'}).find('img').get('alt')\n",
        "    targets.append(fact)"
      ],
      "execution_count": null,
      "outputs": []
    },
    {
      "cell_type": "code",
      "metadata": {
        "id": "zVTiBhw2WlZD"
      },
      "source": [
        "n=4\n",
        "for i in range(1, n):\n",
        "  scrape_website(i)"
      ],
      "execution_count": null,
      "outputs": []
    },
    {
      "cell_type": "code",
      "metadata": {
        "id": "8StrgEy1XMc-",
        "colab": {
          "base_uri": "https://localhost:8080/",
          "height": 404
        },
        "outputId": "05609e09-e3e8-4ee8-cbba-beba6d79d8f8"
      },
      "source": [
        "data = pd.DataFrame(columns = ['author',  'statement', 'source', 'date', 'target']) \n",
        "data['author'] = authors\n",
        "data['statement'] = statements\n",
        "data['source'] = sources\n",
        "data['date'] = dates\n",
        "data['target'] = targets\n",
        "\n",
        "data"
      ],
      "execution_count": null,
      "outputs": [
        {
          "output_type": "execute_result",
          "data": {
            "text/html": [
              "<div>\n",
              "<style scoped>\n",
              "    .dataframe tbody tr th:only-of-type {\n",
              "        vertical-align: middle;\n",
              "    }\n",
              "\n",
              "    .dataframe tbody tr th {\n",
              "        vertical-align: top;\n",
              "    }\n",
              "\n",
              "    .dataframe thead th {\n",
              "        text-align: right;\n",
              "    }\n",
              "</style>\n",
              "<table border=\"1\" class=\"dataframe\">\n",
              "  <thead>\n",
              "    <tr style=\"text-align: right;\">\n",
              "      <th></th>\n",
              "      <th>author</th>\n",
              "      <th>statement</th>\n",
              "      <th>source</th>\n",
              "      <th>date</th>\n",
              "      <th>target</th>\n",
              "    </tr>\n",
              "  </thead>\n",
              "  <tbody>\n",
              "    <tr>\n",
              "      <th>0</th>\n",
              "      <td>Louis Jacobson</td>\n",
              "      <td>The proposal by President Joe Biden would put ...</td>\n",
              "      <td>Roy Blunt</td>\n",
              "      <td>April 6, 2021</td>\n",
              "      <td>half-true</td>\n",
              "    </tr>\n",
              "    <tr>\n",
              "      <th>1</th>\n",
              "      <td>Louis Jacobson</td>\n",
              "      <td>President Joe Biden’s corporate tax rate incre...</td>\n",
              "      <td>Jennifer Granholm</td>\n",
              "      <td>April 6, 2021</td>\n",
              "      <td>barely-true</td>\n",
              "    </tr>\n",
              "    <tr>\n",
              "      <th>2</th>\n",
              "      <td>Andy Nguyen</td>\n",
              "      <td>“6000% Increase in Reported Vaccine Deaths 1st...</td>\n",
              "      <td>Instagram posts</td>\n",
              "      <td>April 6, 2021</td>\n",
              "      <td>false</td>\n",
              "    </tr>\n",
              "    <tr>\n",
              "      <th>3</th>\n",
              "      <td>Bill McCarthy</td>\n",
              "      <td>“The Biden administration is engaging in human...</td>\n",
              "      <td>Katie Pavlich</td>\n",
              "      <td>April 6, 2021</td>\n",
              "      <td>false</td>\n",
              "    </tr>\n",
              "    <tr>\n",
              "      <th>4</th>\n",
              "      <td>Ciara O'Rourke</td>\n",
              "      <td>Says Donald Trump indicted Amy Coney Barrett.</td>\n",
              "      <td>Bloggers</td>\n",
              "      <td>April 6, 2021</td>\n",
              "      <td>pants-fire</td>\n",
              "    </tr>\n",
              "    <tr>\n",
              "      <th>...</th>\n",
              "      <td>...</td>\n",
              "      <td>...</td>\n",
              "      <td>...</td>\n",
              "      <td>...</td>\n",
              "      <td>...</td>\n",
              "    </tr>\n",
              "    <tr>\n",
              "      <th>85</th>\n",
              "      <td>Daniel Funke</td>\n",
              "      <td>The shooting in Boulder, Colo., was a \"false f...</td>\n",
              "      <td>Facebook posts</td>\n",
              "      <td>March 23, 2021</td>\n",
              "      <td>pants-fire</td>\n",
              "    </tr>\n",
              "    <tr>\n",
              "      <th>86</th>\n",
              "      <td>Bill McCarthy</td>\n",
              "      <td>The southern U.S. border “is now open to anyon...</td>\n",
              "      <td>Jeanine Pirro</td>\n",
              "      <td>March 23, 2021</td>\n",
              "      <td>false</td>\n",
              "    </tr>\n",
              "    <tr>\n",
              "      <th>87</th>\n",
              "      <td>Ciara O'Rourke</td>\n",
              "      <td>“Texas has launched ‘Operation Lone Star’ to f...</td>\n",
              "      <td>Facebook posts</td>\n",
              "      <td>March 23, 2021</td>\n",
              "      <td>false</td>\n",
              "    </tr>\n",
              "    <tr>\n",
              "      <th>88</th>\n",
              "      <td>Ciara O'Rourke</td>\n",
              "      <td>Gas costs $7.89 at a station in Albuquerque, N...</td>\n",
              "      <td>Viral image</td>\n",
              "      <td>March 23, 2021</td>\n",
              "      <td>false</td>\n",
              "    </tr>\n",
              "    <tr>\n",
              "      <th>89</th>\n",
              "      <td>Louis Jacobson</td>\n",
              "      <td>Under H.R. 1, the Federal Election Commission ...</td>\n",
              "      <td>Roy Blunt</td>\n",
              "      <td>March 22, 2021</td>\n",
              "      <td>barely-true</td>\n",
              "    </tr>\n",
              "  </tbody>\n",
              "</table>\n",
              "<p>90 rows × 5 columns</p>\n",
              "</div>"
            ],
            "text/plain": [
              "            author  ...       target\n",
              "0   Louis Jacobson  ...    half-true\n",
              "1   Louis Jacobson  ...  barely-true\n",
              "2      Andy Nguyen  ...        false\n",
              "3    Bill McCarthy  ...        false\n",
              "4   Ciara O'Rourke  ...   pants-fire\n",
              "..             ...  ...          ...\n",
              "85    Daniel Funke  ...   pants-fire\n",
              "86   Bill McCarthy  ...        false\n",
              "87  Ciara O'Rourke  ...        false\n",
              "88  Ciara O'Rourke  ...        false\n",
              "89  Louis Jacobson  ...  barely-true\n",
              "\n",
              "[90 rows x 5 columns]"
            ]
          },
          "metadata": {
            "tags": []
          },
          "execution_count": 5
        }
      ]
    },
    {
      "cell_type": "code",
      "metadata": {
        "id": "hi7NBPBSdzr5"
      },
      "source": [
        "def getBinaryNumTarget(text):\n",
        "  if text == 'true':\n",
        "    return 1\n",
        "  else:\n",
        "    return 0"
      ],
      "execution_count": null,
      "outputs": []
    },
    {
      "cell_type": "code",
      "metadata": {
        "id": "SyV66NOWXT0z"
      },
      "source": [
        "def getBinaryTarget(text):\n",
        "  if text == 'true':\n",
        "    return 'REAL'\n",
        "  else:\n",
        "    return 'FAKE'"
      ],
      "execution_count": null,
      "outputs": []
    },
    {
      "cell_type": "code",
      "metadata": {
        "id": "q84d7KYqXYQX"
      },
      "source": [
        "data['BinaryTarget'] = data['target'].apply(getBinaryTarget)\n",
        "data['BinaryNumTarget'] = data['target'].apply(getBinaryNumTarget)"
      ],
      "execution_count": null,
      "outputs": []
    },
    {
      "cell_type": "code",
      "metadata": {
        "id": "ZU08AFFHXcBa"
      },
      "source": [
        "data.to_csv('Fakenews.csv')"
      ],
      "execution_count": null,
      "outputs": []
    }
  ]
}